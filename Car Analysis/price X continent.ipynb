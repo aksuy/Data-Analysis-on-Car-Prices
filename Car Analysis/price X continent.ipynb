{
 "cells": [
  {
   "cell_type": "code",
   "execution_count": 1,
   "id": "ad993eb7",
   "metadata": {},
   "outputs": [
    {
     "data": {
      "text/html": [
       "<div>\n",
       "<style scoped>\n",
       "    .dataframe tbody tr th:only-of-type {\n",
       "        vertical-align: middle;\n",
       "    }\n",
       "\n",
       "    .dataframe tbody tr th {\n",
       "        vertical-align: top;\n",
       "    }\n",
       "\n",
       "    .dataframe thead th {\n",
       "        text-align: right;\n",
       "    }\n",
       "</style>\n",
       "<table border=\"1\" class=\"dataframe\">\n",
       "  <thead>\n",
       "    <tr style=\"text-align: right;\">\n",
       "      <th></th>\n",
       "      <th>country</th>\n",
       "      <th>code_2</th>\n",
       "      <th>code_3</th>\n",
       "      <th>country_code</th>\n",
       "      <th>iso_3166_2</th>\n",
       "      <th>continent</th>\n",
       "      <th>sub_region</th>\n",
       "      <th>region_code</th>\n",
       "      <th>sub_region_code</th>\n",
       "    </tr>\n",
       "  </thead>\n",
       "  <tbody>\n",
       "    <tr>\n",
       "      <th>0</th>\n",
       "      <td>Afghanistan</td>\n",
       "      <td>AF</td>\n",
       "      <td>AFG</td>\n",
       "      <td>4</td>\n",
       "      <td>ISO 3166-2:AF</td>\n",
       "      <td>Asia</td>\n",
       "      <td>Southern Asia</td>\n",
       "      <td>142.0</td>\n",
       "      <td>34.0</td>\n",
       "    </tr>\n",
       "    <tr>\n",
       "      <th>1</th>\n",
       "      <td>Åland Islands</td>\n",
       "      <td>AX</td>\n",
       "      <td>ALA</td>\n",
       "      <td>248</td>\n",
       "      <td>ISO 3166-2:AX</td>\n",
       "      <td>Europe</td>\n",
       "      <td>Northern Europe</td>\n",
       "      <td>150.0</td>\n",
       "      <td>154.0</td>\n",
       "    </tr>\n",
       "    <tr>\n",
       "      <th>2</th>\n",
       "      <td>Albania</td>\n",
       "      <td>AL</td>\n",
       "      <td>ALB</td>\n",
       "      <td>8</td>\n",
       "      <td>ISO 3166-2:AL</td>\n",
       "      <td>Europe</td>\n",
       "      <td>Southern Europe</td>\n",
       "      <td>150.0</td>\n",
       "      <td>39.0</td>\n",
       "    </tr>\n",
       "    <tr>\n",
       "      <th>3</th>\n",
       "      <td>Algeria</td>\n",
       "      <td>DZ</td>\n",
       "      <td>DZA</td>\n",
       "      <td>12</td>\n",
       "      <td>ISO 3166-2:DZ</td>\n",
       "      <td>Africa</td>\n",
       "      <td>Northern Africa</td>\n",
       "      <td>2.0</td>\n",
       "      <td>15.0</td>\n",
       "    </tr>\n",
       "    <tr>\n",
       "      <th>4</th>\n",
       "      <td>American Samoa</td>\n",
       "      <td>AS</td>\n",
       "      <td>ASM</td>\n",
       "      <td>16</td>\n",
       "      <td>ISO 3166-2:AS</td>\n",
       "      <td>Oceania</td>\n",
       "      <td>Polynesia</td>\n",
       "      <td>9.0</td>\n",
       "      <td>61.0</td>\n",
       "    </tr>\n",
       "  </tbody>\n",
       "</table>\n",
       "</div>"
      ],
      "text/plain": [
       "          country code_2 code_3  country_code     iso_3166_2 continent  \\\n",
       "0     Afghanistan     AF    AFG             4  ISO 3166-2:AF      Asia   \n",
       "1   Åland Islands     AX    ALA           248  ISO 3166-2:AX    Europe   \n",
       "2         Albania     AL    ALB             8  ISO 3166-2:AL    Europe   \n",
       "3         Algeria     DZ    DZA            12  ISO 3166-2:DZ    Africa   \n",
       "4  American Samoa     AS    ASM            16  ISO 3166-2:AS   Oceania   \n",
       "\n",
       "        sub_region  region_code  sub_region_code  \n",
       "0    Southern Asia        142.0             34.0  \n",
       "1  Northern Europe        150.0            154.0  \n",
       "2  Southern Europe        150.0             39.0  \n",
       "3  Northern Africa          2.0             15.0  \n",
       "4        Polynesia          9.0             61.0  "
      ]
     },
     "execution_count": 1,
     "metadata": {},
     "output_type": "execute_result"
    }
   ],
   "source": [
    "import pandas as pd\n",
    "from matplotlib import pyplot as plt\n",
    "import seaborn as sns\n",
    "import numpy as np\n",
    "data1 = pd.read_csv('C:/Users/aksha/Desktop/Data Science/car_purchasing.csv')\n",
    "data1.head()\n",
    "data2 = pd.read_csv('C:/Users/aksha/Desktop/Data Science/countryContinent.csv',encoding = \"ISO-8859-1\")\n",
    "\n",
    "data2.head()"
   ]
  },
  {
   "cell_type": "code",
   "execution_count": 2,
   "id": "f345862f",
   "metadata": {},
   "outputs": [
    {
     "data": {
      "text/html": [
       "<div>\n",
       "<style scoped>\n",
       "    .dataframe tbody tr th:only-of-type {\n",
       "        vertical-align: middle;\n",
       "    }\n",
       "\n",
       "    .dataframe tbody tr th {\n",
       "        vertical-align: top;\n",
       "    }\n",
       "\n",
       "    .dataframe thead th {\n",
       "        text-align: right;\n",
       "    }\n",
       "</style>\n",
       "<table border=\"1\" class=\"dataframe\">\n",
       "  <thead>\n",
       "    <tr style=\"text-align: right;\">\n",
       "      <th></th>\n",
       "      <th>customer name</th>\n",
       "      <th>JobTitle</th>\n",
       "      <th>customer e-mail</th>\n",
       "      <th>country</th>\n",
       "      <th>gender</th>\n",
       "      <th>age</th>\n",
       "      <th>BasePay</th>\n",
       "      <th>OvertimePay</th>\n",
       "      <th>OtherPay</th>\n",
       "      <th>Benefits</th>\n",
       "      <th>TotalPay</th>\n",
       "      <th>TotalPayBenefits</th>\n",
       "      <th>credit card debt</th>\n",
       "      <th>net worth</th>\n",
       "      <th>car purchase amount</th>\n",
       "    </tr>\n",
       "  </thead>\n",
       "  <tbody>\n",
       "    <tr>\n",
       "      <th>0</th>\n",
       "      <td>Martina Avila</td>\n",
       "      <td>GENERAL MANAGER-METROPOLITAN TRANSIT AUTHORITY</td>\n",
       "      <td>cubilia.Curae.Phasellus@quisaccumsanconvallis.edu</td>\n",
       "      <td>Bulgaria</td>\n",
       "      <td>0</td>\n",
       "      <td>42</td>\n",
       "      <td>167411.18</td>\n",
       "      <td>0.00</td>\n",
       "      <td>400184.25</td>\n",
       "      <td>NaN</td>\n",
       "      <td>567595.43</td>\n",
       "      <td>567595.43</td>\n",
       "      <td>11609.380910</td>\n",
       "      <td>238961.2505</td>\n",
       "      <td>35321.45877</td>\n",
       "    </tr>\n",
       "    <tr>\n",
       "      <th>1</th>\n",
       "      <td>Harlan Barnes</td>\n",
       "      <td>CAPTAIN III (POLICE DEPARTMENT)</td>\n",
       "      <td>eu.dolor@diam.co.uk</td>\n",
       "      <td>Belize</td>\n",
       "      <td>0</td>\n",
       "      <td>41</td>\n",
       "      <td>155966.02</td>\n",
       "      <td>245131.88</td>\n",
       "      <td>137811.38</td>\n",
       "      <td>NaN</td>\n",
       "      <td>538909.28</td>\n",
       "      <td>538909.28</td>\n",
       "      <td>9572.957136</td>\n",
       "      <td>530973.9078</td>\n",
       "      <td>45115.52566</td>\n",
       "    </tr>\n",
       "    <tr>\n",
       "      <th>2</th>\n",
       "      <td>Naomi Rodriquez</td>\n",
       "      <td>CAPTAIN III (POLICE DEPARTMENT)</td>\n",
       "      <td>vulputate.mauris.sagittis@ametconsectetueradip...</td>\n",
       "      <td>Algeria</td>\n",
       "      <td>1</td>\n",
       "      <td>43</td>\n",
       "      <td>212739.13</td>\n",
       "      <td>106088.18</td>\n",
       "      <td>16452.60</td>\n",
       "      <td>NaN</td>\n",
       "      <td>335279.91</td>\n",
       "      <td>335279.91</td>\n",
       "      <td>11160.355060</td>\n",
       "      <td>638467.1773</td>\n",
       "      <td>42925.70921</td>\n",
       "    </tr>\n",
       "    <tr>\n",
       "      <th>3</th>\n",
       "      <td>Jade Cunningham</td>\n",
       "      <td>WIRE ROPE CABLE MAINTENANCE MECHANIC</td>\n",
       "      <td>malesuada@dignissim.com</td>\n",
       "      <td>Cook Islands</td>\n",
       "      <td>1</td>\n",
       "      <td>58</td>\n",
       "      <td>77916.00</td>\n",
       "      <td>56120.71</td>\n",
       "      <td>198306.90</td>\n",
       "      <td>NaN</td>\n",
       "      <td>332343.61</td>\n",
       "      <td>332343.61</td>\n",
       "      <td>14426.164850</td>\n",
       "      <td>548599.0524</td>\n",
       "      <td>67422.36313</td>\n",
       "    </tr>\n",
       "    <tr>\n",
       "      <th>4</th>\n",
       "      <td>Cedric Leach</td>\n",
       "      <td>DEPUTY CHIEF OF DEPARTMENT,(FIRE DEPARTMENT)</td>\n",
       "      <td>felis.ullamcorper.viverra@egetmollislectus.net</td>\n",
       "      <td>Brazil</td>\n",
       "      <td>1</td>\n",
       "      <td>57</td>\n",
       "      <td>134401.60</td>\n",
       "      <td>9737.00</td>\n",
       "      <td>182234.59</td>\n",
       "      <td>NaN</td>\n",
       "      <td>326373.19</td>\n",
       "      <td>326373.19</td>\n",
       "      <td>5358.712177</td>\n",
       "      <td>560304.0671</td>\n",
       "      <td>55915.46248</td>\n",
       "    </tr>\n",
       "  </tbody>\n",
       "</table>\n",
       "</div>"
      ],
      "text/plain": [
       "     customer name                                        JobTitle  \\\n",
       "0    Martina Avila  GENERAL MANAGER-METROPOLITAN TRANSIT AUTHORITY   \n",
       "1    Harlan Barnes                 CAPTAIN III (POLICE DEPARTMENT)   \n",
       "2  Naomi Rodriquez                 CAPTAIN III (POLICE DEPARTMENT)   \n",
       "3  Jade Cunningham            WIRE ROPE CABLE MAINTENANCE MECHANIC   \n",
       "4     Cedric Leach    DEPUTY CHIEF OF DEPARTMENT,(FIRE DEPARTMENT)   \n",
       "\n",
       "                                     customer e-mail       country  gender  \\\n",
       "0  cubilia.Curae.Phasellus@quisaccumsanconvallis.edu      Bulgaria       0   \n",
       "1                                eu.dolor@diam.co.uk        Belize       0   \n",
       "2  vulputate.mauris.sagittis@ametconsectetueradip...       Algeria       1   \n",
       "3                            malesuada@dignissim.com  Cook Islands       1   \n",
       "4     felis.ullamcorper.viverra@egetmollislectus.net        Brazil       1   \n",
       "\n",
       "   age    BasePay  OvertimePay   OtherPay  Benefits   TotalPay  \\\n",
       "0   42  167411.18         0.00  400184.25       NaN  567595.43   \n",
       "1   41  155966.02    245131.88  137811.38       NaN  538909.28   \n",
       "2   43  212739.13    106088.18   16452.60       NaN  335279.91   \n",
       "3   58   77916.00     56120.71  198306.90       NaN  332343.61   \n",
       "4   57  134401.60      9737.00  182234.59       NaN  326373.19   \n",
       "\n",
       "   TotalPayBenefits  credit card debt    net worth  car purchase amount  \n",
       "0         567595.43      11609.380910  238961.2505          35321.45877  \n",
       "1         538909.28       9572.957136  530973.9078          45115.52566  \n",
       "2         335279.91      11160.355060  638467.1773          42925.70921  \n",
       "3         332343.61      14426.164850  548599.0524          67422.36313  \n",
       "4         326373.19       5358.712177  560304.0671          55915.46248  "
      ]
     },
     "execution_count": 2,
     "metadata": {},
     "output_type": "execute_result"
    }
   ],
   "source": [
    "data1.head()"
   ]
  },
  {
   "cell_type": "code",
   "execution_count": 3,
   "id": "d2961561",
   "metadata": {},
   "outputs": [
    {
     "data": {
      "text/html": [
       "<div>\n",
       "<style scoped>\n",
       "    .dataframe tbody tr th:only-of-type {\n",
       "        vertical-align: middle;\n",
       "    }\n",
       "\n",
       "    .dataframe tbody tr th {\n",
       "        vertical-align: top;\n",
       "    }\n",
       "\n",
       "    .dataframe thead th {\n",
       "        text-align: right;\n",
       "    }\n",
       "</style>\n",
       "<table border=\"1\" class=\"dataframe\">\n",
       "  <thead>\n",
       "    <tr style=\"text-align: right;\">\n",
       "      <th></th>\n",
       "      <th>net worth</th>\n",
       "    </tr>\n",
       "    <tr>\n",
       "      <th>country</th>\n",
       "      <th></th>\n",
       "    </tr>\n",
       "  </thead>\n",
       "  <tbody>\n",
       "    <tr>\n",
       "      <th>Afghanistan</th>\n",
       "      <td>342533.579375</td>\n",
       "    </tr>\n",
       "    <tr>\n",
       "      <th>Algeria</th>\n",
       "      <td>539669.883120</td>\n",
       "    </tr>\n",
       "    <tr>\n",
       "      <th>American Samoa</th>\n",
       "      <td>320834.010200</td>\n",
       "    </tr>\n",
       "    <tr>\n",
       "      <th>Andorra</th>\n",
       "      <td>472957.648500</td>\n",
       "    </tr>\n",
       "    <tr>\n",
       "      <th>Angola</th>\n",
       "      <td>454485.529200</td>\n",
       "    </tr>\n",
       "  </tbody>\n",
       "</table>\n",
       "</div>"
      ],
      "text/plain": [
       "                    net worth\n",
       "country                      \n",
       "Afghanistan     342533.579375\n",
       "Algeria         539669.883120\n",
       "American Samoa  320834.010200\n",
       "Andorra         472957.648500\n",
       "Angola          454485.529200"
      ]
     },
     "execution_count": 3,
     "metadata": {},
     "output_type": "execute_result"
    }
   ],
   "source": [
    "df1 = data1[['country','car purchase amount']]\n",
    "df2 = data1[['country','net worth']]\n",
    "df1 = df1.groupby(['country']).agg({'car purchase amount':'mean'})\n",
    "df2 = df2.groupby(['country']).agg({'net worth':'mean'})\n",
    "df1.head()\n",
    "df2.head()\n",
    "\n"
   ]
  },
  {
   "cell_type": "code",
   "execution_count": 4,
   "id": "86632c14",
   "metadata": {},
   "outputs": [
    {
     "data": {
      "text/html": [
       "<div>\n",
       "<style scoped>\n",
       "    .dataframe tbody tr th:only-of-type {\n",
       "        vertical-align: middle;\n",
       "    }\n",
       "\n",
       "    .dataframe tbody tr th {\n",
       "        vertical-align: top;\n",
       "    }\n",
       "\n",
       "    .dataframe thead th {\n",
       "        text-align: right;\n",
       "    }\n",
       "</style>\n",
       "<table border=\"1\" class=\"dataframe\">\n",
       "  <thead>\n",
       "    <tr style=\"text-align: right;\">\n",
       "      <th></th>\n",
       "      <th>car purchase amount</th>\n",
       "    </tr>\n",
       "    <tr>\n",
       "      <th>country</th>\n",
       "      <th></th>\n",
       "    </tr>\n",
       "  </thead>\n",
       "  <tbody>\n",
       "    <tr>\n",
       "      <th>Afghanistan</th>\n",
       "      <td>56017.850725</td>\n",
       "    </tr>\n",
       "    <tr>\n",
       "      <th>Algeria</th>\n",
       "      <td>47752.068330</td>\n",
       "    </tr>\n",
       "    <tr>\n",
       "      <th>American Samoa</th>\n",
       "      <td>24221.999370</td>\n",
       "    </tr>\n",
       "    <tr>\n",
       "      <th>Andorra</th>\n",
       "      <td>39239.699943</td>\n",
       "    </tr>\n",
       "    <tr>\n",
       "      <th>Angola</th>\n",
       "      <td>44498.000075</td>\n",
       "    </tr>\n",
       "  </tbody>\n",
       "</table>\n",
       "</div>"
      ],
      "text/plain": [
       "                car purchase amount\n",
       "country                            \n",
       "Afghanistan            56017.850725\n",
       "Algeria                47752.068330\n",
       "American Samoa         24221.999370\n",
       "Andorra                39239.699943\n",
       "Angola                 44498.000075"
      ]
     },
     "execution_count": 4,
     "metadata": {},
     "output_type": "execute_result"
    }
   ],
   "source": [
    "df1.head()"
   ]
  },
  {
   "cell_type": "code",
   "execution_count": 5,
   "id": "29c36aa2",
   "metadata": {},
   "outputs": [
    {
     "data": {
      "text/html": [
       "<div>\n",
       "<style scoped>\n",
       "    .dataframe tbody tr th:only-of-type {\n",
       "        vertical-align: middle;\n",
       "    }\n",
       "\n",
       "    .dataframe tbody tr th {\n",
       "        vertical-align: top;\n",
       "    }\n",
       "\n",
       "    .dataframe thead th {\n",
       "        text-align: right;\n",
       "    }\n",
       "</style>\n",
       "<table border=\"1\" class=\"dataframe\">\n",
       "  <thead>\n",
       "    <tr style=\"text-align: right;\">\n",
       "      <th></th>\n",
       "      <th>car purchase amount</th>\n",
       "      <th>net worth</th>\n",
       "    </tr>\n",
       "    <tr>\n",
       "      <th>country</th>\n",
       "      <th></th>\n",
       "      <th></th>\n",
       "    </tr>\n",
       "  </thead>\n",
       "  <tbody>\n",
       "    <tr>\n",
       "      <th>Afghanistan</th>\n",
       "      <td>56017.850725</td>\n",
       "      <td>342533.579375</td>\n",
       "    </tr>\n",
       "    <tr>\n",
       "      <th>Algeria</th>\n",
       "      <td>47752.068330</td>\n",
       "      <td>539669.883120</td>\n",
       "    </tr>\n",
       "    <tr>\n",
       "      <th>American Samoa</th>\n",
       "      <td>24221.999370</td>\n",
       "      <td>320834.010200</td>\n",
       "    </tr>\n",
       "    <tr>\n",
       "      <th>Andorra</th>\n",
       "      <td>39239.699943</td>\n",
       "      <td>472957.648500</td>\n",
       "    </tr>\n",
       "    <tr>\n",
       "      <th>Angola</th>\n",
       "      <td>44498.000075</td>\n",
       "      <td>454485.529200</td>\n",
       "    </tr>\n",
       "  </tbody>\n",
       "</table>\n",
       "</div>"
      ],
      "text/plain": [
       "                car purchase amount      net worth\n",
       "country                                           \n",
       "Afghanistan            56017.850725  342533.579375\n",
       "Algeria                47752.068330  539669.883120\n",
       "American Samoa         24221.999370  320834.010200\n",
       "Andorra                39239.699943  472957.648500\n",
       "Angola                 44498.000075  454485.529200"
      ]
     },
     "execution_count": 5,
     "metadata": {},
     "output_type": "execute_result"
    }
   ],
   "source": [
    "car_data = pd.merge(df1, df2, on=\"country\")\n",
    "car_data.head()"
   ]
  },
  {
   "cell_type": "code",
   "execution_count": 6,
   "id": "a7ccb008",
   "metadata": {},
   "outputs": [
    {
     "data": {
      "text/plain": [
       "country            249\n",
       "code_2             248\n",
       "code_3             249\n",
       "country_code       249\n",
       "iso_3166_2         249\n",
       "continent            5\n",
       "sub_region          22\n",
       "region_code          5\n",
       "sub_region_code     22\n",
       "dtype: int64"
      ]
     },
     "execution_count": 6,
     "metadata": {},
     "output_type": "execute_result"
    }
   ],
   "source": [
    "data2.nunique()"
   ]
  },
  {
   "cell_type": "code",
   "execution_count": 7,
   "id": "4a68991d",
   "metadata": {},
   "outputs": [
    {
     "data": {
      "text/plain": [
       "249"
      ]
     },
     "execution_count": 7,
     "metadata": {},
     "output_type": "execute_result"
    }
   ],
   "source": [
    "data2.country.nunique()"
   ]
  },
  {
   "cell_type": "code",
   "execution_count": 8,
   "id": "7100383c",
   "metadata": {},
   "outputs": [
    {
     "data": {
      "text/html": [
       "<div>\n",
       "<style scoped>\n",
       "    .dataframe tbody tr th:only-of-type {\n",
       "        vertical-align: middle;\n",
       "    }\n",
       "\n",
       "    .dataframe tbody tr th {\n",
       "        vertical-align: top;\n",
       "    }\n",
       "\n",
       "    .dataframe thead th {\n",
       "        text-align: right;\n",
       "    }\n",
       "</style>\n",
       "<table border=\"1\" class=\"dataframe\">\n",
       "  <thead>\n",
       "    <tr style=\"text-align: right;\">\n",
       "      <th></th>\n",
       "      <th>country</th>\n",
       "      <th>continent</th>\n",
       "      <th>sub_region</th>\n",
       "    </tr>\n",
       "  </thead>\n",
       "  <tbody>\n",
       "    <tr>\n",
       "      <th>0</th>\n",
       "      <td>Afghanistan</td>\n",
       "      <td>Asia</td>\n",
       "      <td>Southern Asia</td>\n",
       "    </tr>\n",
       "    <tr>\n",
       "      <th>1</th>\n",
       "      <td>Åland Islands</td>\n",
       "      <td>Europe</td>\n",
       "      <td>Northern Europe</td>\n",
       "    </tr>\n",
       "    <tr>\n",
       "      <th>2</th>\n",
       "      <td>Albania</td>\n",
       "      <td>Europe</td>\n",
       "      <td>Southern Europe</td>\n",
       "    </tr>\n",
       "    <tr>\n",
       "      <th>3</th>\n",
       "      <td>Algeria</td>\n",
       "      <td>Africa</td>\n",
       "      <td>Northern Africa</td>\n",
       "    </tr>\n",
       "    <tr>\n",
       "      <th>4</th>\n",
       "      <td>American Samoa</td>\n",
       "      <td>Oceania</td>\n",
       "      <td>Polynesia</td>\n",
       "    </tr>\n",
       "  </tbody>\n",
       "</table>\n",
       "</div>"
      ],
      "text/plain": [
       "          country continent       sub_region\n",
       "0     Afghanistan      Asia    Southern Asia\n",
       "1   Åland Islands    Europe  Northern Europe\n",
       "2         Albania    Europe  Southern Europe\n",
       "3         Algeria    Africa  Northern Africa\n",
       "4  American Samoa   Oceania        Polynesia"
      ]
     },
     "execution_count": 8,
     "metadata": {},
     "output_type": "execute_result"
    }
   ],
   "source": [
    "country_data = data2[['country','continent','sub_region']]\n",
    "country_data.head()"
   ]
  },
  {
   "cell_type": "code",
   "execution_count": 10,
   "id": "0b5dae3c",
   "metadata": {},
   "outputs": [
    {
     "data": {
      "text/html": [
       "<div>\n",
       "<style scoped>\n",
       "    .dataframe tbody tr th:only-of-type {\n",
       "        vertical-align: middle;\n",
       "    }\n",
       "\n",
       "    .dataframe tbody tr th {\n",
       "        vertical-align: top;\n",
       "    }\n",
       "\n",
       "    .dataframe thead th {\n",
       "        text-align: right;\n",
       "    }\n",
       "</style>\n",
       "<table border=\"1\" class=\"dataframe\">\n",
       "  <thead>\n",
       "    <tr style=\"text-align: right;\">\n",
       "      <th></th>\n",
       "      <th>country</th>\n",
       "      <th>car purchase amount</th>\n",
       "      <th>net worth</th>\n",
       "      <th>continent</th>\n",
       "      <th>sub_region</th>\n",
       "    </tr>\n",
       "  </thead>\n",
       "  <tbody>\n",
       "    <tr>\n",
       "      <th>0</th>\n",
       "      <td>Afghanistan</td>\n",
       "      <td>56017.850725</td>\n",
       "      <td>342533.579375</td>\n",
       "      <td>Asia</td>\n",
       "      <td>Southern Asia</td>\n",
       "    </tr>\n",
       "    <tr>\n",
       "      <th>1</th>\n",
       "      <td>Algeria</td>\n",
       "      <td>47752.068330</td>\n",
       "      <td>539669.883120</td>\n",
       "      <td>Africa</td>\n",
       "      <td>Northern Africa</td>\n",
       "    </tr>\n",
       "    <tr>\n",
       "      <th>2</th>\n",
       "      <td>American Samoa</td>\n",
       "      <td>24221.999370</td>\n",
       "      <td>320834.010200</td>\n",
       "      <td>Oceania</td>\n",
       "      <td>Polynesia</td>\n",
       "    </tr>\n",
       "    <tr>\n",
       "      <th>3</th>\n",
       "      <td>Andorra</td>\n",
       "      <td>39239.699943</td>\n",
       "      <td>472957.648500</td>\n",
       "      <td>Europe</td>\n",
       "      <td>Southern Europe</td>\n",
       "    </tr>\n",
       "    <tr>\n",
       "      <th>4</th>\n",
       "      <td>Angola</td>\n",
       "      <td>44498.000075</td>\n",
       "      <td>454485.529200</td>\n",
       "      <td>Africa</td>\n",
       "      <td>Middle Africa</td>\n",
       "    </tr>\n",
       "  </tbody>\n",
       "</table>\n",
       "</div>"
      ],
      "text/plain": [
       "          country  car purchase amount      net worth continent  \\\n",
       "0     Afghanistan         56017.850725  342533.579375      Asia   \n",
       "1         Algeria         47752.068330  539669.883120    Africa   \n",
       "2  American Samoa         24221.999370  320834.010200   Oceania   \n",
       "3         Andorra         39239.699943  472957.648500    Europe   \n",
       "4          Angola         44498.000075  454485.529200    Africa   \n",
       "\n",
       "        sub_region  \n",
       "0    Southern Asia  \n",
       "1  Northern Africa  \n",
       "2        Polynesia  \n",
       "3  Southern Europe  \n",
       "4    Middle Africa  "
      ]
     },
     "execution_count": 10,
     "metadata": {},
     "output_type": "execute_result"
    }
   ],
   "source": [
    "final_data = pd.merge(car_data, country_data, on=\"country\")\n",
    "final_data.head()"
   ]
  },
  {
   "cell_type": "code",
   "execution_count": 11,
   "id": "0730f868",
   "metadata": {},
   "outputs": [
    {
     "data": {
      "text/plain": [
       "5"
      ]
     },
     "execution_count": 11,
     "metadata": {},
     "output_type": "execute_result"
    }
   ],
   "source": [
    "final_data.continent.nunique()"
   ]
  },
  {
   "cell_type": "code",
   "execution_count": 12,
   "id": "744a7c1c",
   "metadata": {},
   "outputs": [
    {
     "data": {
      "text/plain": [
       "array(['Asia', 'Africa', 'Oceania', 'Europe', 'Americas', nan],\n",
       "      dtype=object)"
      ]
     },
     "execution_count": 12,
     "metadata": {},
     "output_type": "execute_result"
    }
   ],
   "source": [
    "final_data.continent.unique()"
   ]
  },
  {
   "cell_type": "code",
   "execution_count": 13,
   "id": "8a5799bf",
   "metadata": {},
   "outputs": [
    {
     "name": "stdout",
     "output_type": "stream",
     "text": [
      "               country  car purchase amount      net worth continent  \\\n",
      "0          Afghanistan         56017.850725  342533.579375      Asia   \n",
      "1              Algeria         47752.068330  539669.883120    Africa   \n",
      "2       American Samoa         24221.999370  320834.010200   Oceania   \n",
      "3              Andorra         39239.699943  472957.648500    Europe   \n",
      "4               Angola         44498.000075  454485.529200    Africa   \n",
      "..                 ...                  ...            ...       ...   \n",
      "182  Wallis and Futuna         53153.921810  426298.253800   Oceania   \n",
      "183     Western Sahara         44318.569955  486416.971050    Africa   \n",
      "184              Yemen         52960.391330  542472.995233      Asia   \n",
      "185           Zimbabwe         34602.865580  361990.148000    Africa   \n",
      "186      Åland Islands         51012.696863  523111.117200    Europe   \n",
      "\n",
      "          sub_region  \n",
      "0      Southern Asia  \n",
      "1    Northern Africa  \n",
      "2          Polynesia  \n",
      "3    Southern Europe  \n",
      "4      Middle Africa  \n",
      "..               ...  \n",
      "182        Polynesia  \n",
      "183  Northern Africa  \n",
      "184     Western Asia  \n",
      "185   Eastern Africa  \n",
      "186  Northern Europe  \n",
      "\n",
      "[187 rows x 5 columns]\n"
     ]
    }
   ],
   "source": [
    "print(final_data)"
   ]
  },
  {
   "cell_type": "code",
   "execution_count": 15,
   "id": "7d93e44e",
   "metadata": {},
   "outputs": [
    {
     "data": {
      "text/plain": [
       "True"
      ]
     },
     "execution_count": 15,
     "metadata": {},
     "output_type": "execute_result"
    }
   ],
   "source": [
    "final_data.isnull().values.any()"
   ]
  },
  {
   "cell_type": "code",
   "execution_count": 16,
   "id": "97370311",
   "metadata": {},
   "outputs": [
    {
     "data": {
      "text/plain": [
       "12"
      ]
     },
     "execution_count": 16,
     "metadata": {},
     "output_type": "execute_result"
    }
   ],
   "source": [
    "final_data.isna().sum().sum()"
   ]
  },
  {
   "cell_type": "code",
   "execution_count": 17,
   "id": "6021c48a",
   "metadata": {},
   "outputs": [
    {
     "data": {
      "text/plain": [
       "6"
      ]
     },
     "execution_count": 17,
     "metadata": {},
     "output_type": "execute_result"
    }
   ],
   "source": [
    "final_data['country'].isna().sum()\n",
    "final_data['car purchase amount'].isna().sum()\n",
    "final_data['net worth'].isna().sum()\n",
    "final_data['continent'].isna().sum()\n",
    "final_data['sub_region'].isna().sum()"
   ]
  },
  {
   "cell_type": "code",
   "execution_count": 18,
   "id": "e8ef7a00",
   "metadata": {},
   "outputs": [],
   "source": [
    "final_data.to_csv('out.csv')"
   ]
  },
  {
   "cell_type": "code",
   "execution_count": 20,
   "id": "371fc58f",
   "metadata": {},
   "outputs": [],
   "source": [
    "final = final_data.dropna()"
   ]
  },
  {
   "cell_type": "code",
   "execution_count": 21,
   "id": "13aa02e6",
   "metadata": {},
   "outputs": [
    {
     "data": {
      "text/plain": [
       "False"
      ]
     },
     "execution_count": 21,
     "metadata": {},
     "output_type": "execute_result"
    }
   ],
   "source": [
    "final.isnull().values.any()"
   ]
  },
  {
   "cell_type": "code",
   "execution_count": 25,
   "id": "ae700a62",
   "metadata": {},
   "outputs": [
    {
     "data": {
      "text/plain": [
       "array(['Southern Asia', 'Northern Africa', 'Polynesia', 'Southern Europe',\n",
       "       'Middle Africa', 'Caribbean', 'South America', 'Western Asia',\n",
       "       'Australia and New Zealand', 'Western Europe', 'Eastern Europe',\n",
       "       'Central America', 'Western Africa', 'Northern America',\n",
       "       'Southern Africa', 'South-Eastern Asia', 'Eastern Asia',\n",
       "       'Northern Europe', 'Eastern Africa', 'Micronesia', 'Central Asia',\n",
       "       'Melanesia'], dtype=object)"
      ]
     },
     "execution_count": 25,
     "metadata": {},
     "output_type": "execute_result"
    }
   ],
   "source": [
    "final_data.continent.unique()\n",
    "final.sub_region.unique()"
   ]
  },
  {
   "cell_type": "code",
   "execution_count": null,
   "id": "f97085d5",
   "metadata": {},
   "outputs": [],
   "source": []
  },
  {
   "cell_type": "code",
   "execution_count": 24,
   "id": "e9093f12",
   "metadata": {},
   "outputs": [
    {
     "data": {
      "text/plain": [
       "array(['Asia', 'Africa', 'Oceania', 'Europe', 'Americas'], dtype=object)"
      ]
     },
     "execution_count": 24,
     "metadata": {},
     "output_type": "execute_result"
    }
   ],
   "source": [
    "final.continent.unique()"
   ]
  },
  {
   "cell_type": "code",
   "execution_count": 28,
   "id": "474f8215",
   "metadata": {},
   "outputs": [],
   "source": [
    "final.to_csv('car_price_X_continent.csv')"
   ]
  }
 ],
 "metadata": {
  "kernelspec": {
   "display_name": "Python 3 (ipykernel)",
   "language": "python",
   "name": "python3"
  },
  "language_info": {
   "codemirror_mode": {
    "name": "ipython",
    "version": 3
   },
   "file_extension": ".py",
   "mimetype": "text/x-python",
   "name": "python",
   "nbconvert_exporter": "python",
   "pygments_lexer": "ipython3",
   "version": "3.9.15"
  }
 },
 "nbformat": 4,
 "nbformat_minor": 5
}
