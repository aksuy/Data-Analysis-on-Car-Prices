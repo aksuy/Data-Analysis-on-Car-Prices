{
 "cells": [
  {
   "cell_type": "code",
   "execution_count": 37,
   "id": "057bb490",
   "metadata": {},
   "outputs": [
    {
     "data": {
      "text/html": [
       "<div>\n",
       "<style scoped>\n",
       "    .dataframe tbody tr th:only-of-type {\n",
       "        vertical-align: middle;\n",
       "    }\n",
       "\n",
       "    .dataframe tbody tr th {\n",
       "        vertical-align: top;\n",
       "    }\n",
       "\n",
       "    .dataframe thead th {\n",
       "        text-align: right;\n",
       "    }\n",
       "</style>\n",
       "<table border=\"1\" class=\"dataframe\">\n",
       "  <thead>\n",
       "    <tr style=\"text-align: right;\">\n",
       "      <th></th>\n",
       "      <th>Unnamed: 0</th>\n",
       "      <th>country</th>\n",
       "      <th>car purchase amount</th>\n",
       "      <th>net worth</th>\n",
       "      <th>continent</th>\n",
       "      <th>sub_region</th>\n",
       "    </tr>\n",
       "  </thead>\n",
       "  <tbody>\n",
       "    <tr>\n",
       "      <th>0</th>\n",
       "      <td>0</td>\n",
       "      <td>Afghanistan</td>\n",
       "      <td>56017.850725</td>\n",
       "      <td>342533.579375</td>\n",
       "      <td>Asia</td>\n",
       "      <td>Southern Asia</td>\n",
       "    </tr>\n",
       "    <tr>\n",
       "      <th>1</th>\n",
       "      <td>1</td>\n",
       "      <td>Algeria</td>\n",
       "      <td>47752.068330</td>\n",
       "      <td>539669.883120</td>\n",
       "      <td>Africa</td>\n",
       "      <td>Northern Africa</td>\n",
       "    </tr>\n",
       "    <tr>\n",
       "      <th>2</th>\n",
       "      <td>2</td>\n",
       "      <td>American Samoa</td>\n",
       "      <td>24221.999370</td>\n",
       "      <td>320834.010200</td>\n",
       "      <td>Oceania</td>\n",
       "      <td>Polynesia</td>\n",
       "    </tr>\n",
       "    <tr>\n",
       "      <th>3</th>\n",
       "      <td>3</td>\n",
       "      <td>Andorra</td>\n",
       "      <td>39239.699943</td>\n",
       "      <td>472957.648500</td>\n",
       "      <td>Europe</td>\n",
       "      <td>Southern Europe</td>\n",
       "    </tr>\n",
       "    <tr>\n",
       "      <th>4</th>\n",
       "      <td>4</td>\n",
       "      <td>Angola</td>\n",
       "      <td>44498.000075</td>\n",
       "      <td>454485.529200</td>\n",
       "      <td>Africa</td>\n",
       "      <td>Middle Africa</td>\n",
       "    </tr>\n",
       "  </tbody>\n",
       "</table>\n",
       "</div>"
      ],
      "text/plain": [
       "   Unnamed: 0         country  car purchase amount      net worth continent  \\\n",
       "0           0     Afghanistan         56017.850725  342533.579375      Asia   \n",
       "1           1         Algeria         47752.068330  539669.883120    Africa   \n",
       "2           2  American Samoa         24221.999370  320834.010200   Oceania   \n",
       "3           3         Andorra         39239.699943  472957.648500    Europe   \n",
       "4           4          Angola         44498.000075  454485.529200    Africa   \n",
       "\n",
       "        sub_region  \n",
       "0    Southern Asia  \n",
       "1  Northern Africa  \n",
       "2        Polynesia  \n",
       "3  Southern Europe  \n",
       "4    Middle Africa  "
      ]
     },
     "execution_count": 37,
     "metadata": {},
     "output_type": "execute_result"
    }
   ],
   "source": [
    "import pandas as pd\n",
    "import  seaborn as sns\n",
    "import numpy as np\n",
    "import matplotlib.pyplot as plt\n",
    "cont = pd.read_csv('car_price_X_continent.csv')\n",
    "cont.head()"
   ]
  },
  {
   "cell_type": "code",
   "execution_count": 9,
   "id": "733490fb",
   "metadata": {},
   "outputs": [
    {
     "data": {
      "text/html": [
       "<div>\n",
       "<style scoped>\n",
       "    .dataframe tbody tr th:only-of-type {\n",
       "        vertical-align: middle;\n",
       "    }\n",
       "\n",
       "    .dataframe tbody tr th {\n",
       "        vertical-align: top;\n",
       "    }\n",
       "\n",
       "    .dataframe thead th {\n",
       "        text-align: right;\n",
       "    }\n",
       "</style>\n",
       "<table border=\"1\" class=\"dataframe\">\n",
       "  <thead>\n",
       "    <tr style=\"text-align: right;\">\n",
       "      <th></th>\n",
       "      <th>country</th>\n",
       "      <th>car purchase amount</th>\n",
       "      <th>net worth</th>\n",
       "      <th>continent</th>\n",
       "      <th>sub_region</th>\n",
       "    </tr>\n",
       "  </thead>\n",
       "  <tbody>\n",
       "    <tr>\n",
       "      <th>0</th>\n",
       "      <td>Afghanistan</td>\n",
       "      <td>56017.850725</td>\n",
       "      <td>342533.579375</td>\n",
       "      <td>Asia</td>\n",
       "      <td>Southern Asia</td>\n",
       "    </tr>\n",
       "    <tr>\n",
       "      <th>1</th>\n",
       "      <td>Algeria</td>\n",
       "      <td>47752.068330</td>\n",
       "      <td>539669.883120</td>\n",
       "      <td>Africa</td>\n",
       "      <td>Northern Africa</td>\n",
       "    </tr>\n",
       "    <tr>\n",
       "      <th>2</th>\n",
       "      <td>American Samoa</td>\n",
       "      <td>24221.999370</td>\n",
       "      <td>320834.010200</td>\n",
       "      <td>Oceania</td>\n",
       "      <td>Polynesia</td>\n",
       "    </tr>\n",
       "    <tr>\n",
       "      <th>3</th>\n",
       "      <td>Andorra</td>\n",
       "      <td>39239.699943</td>\n",
       "      <td>472957.648500</td>\n",
       "      <td>Europe</td>\n",
       "      <td>Southern Europe</td>\n",
       "    </tr>\n",
       "    <tr>\n",
       "      <th>4</th>\n",
       "      <td>Angola</td>\n",
       "      <td>44498.000075</td>\n",
       "      <td>454485.529200</td>\n",
       "      <td>Africa</td>\n",
       "      <td>Middle Africa</td>\n",
       "    </tr>\n",
       "  </tbody>\n",
       "</table>\n",
       "</div>"
      ],
      "text/plain": [
       "          country  car purchase amount      net worth continent  \\\n",
       "0     Afghanistan         56017.850725  342533.579375      Asia   \n",
       "1         Algeria         47752.068330  539669.883120    Africa   \n",
       "2  American Samoa         24221.999370  320834.010200   Oceania   \n",
       "3         Andorra         39239.699943  472957.648500    Europe   \n",
       "4          Angola         44498.000075  454485.529200    Africa   \n",
       "\n",
       "        sub_region  \n",
       "0    Southern Asia  \n",
       "1  Northern Africa  \n",
       "2        Polynesia  \n",
       "3  Southern Europe  \n",
       "4    Middle Africa  "
      ]
     },
     "execution_count": 9,
     "metadata": {},
     "output_type": "execute_result"
    }
   ],
   "source": [
    "cont = cont.drop('Unnamed: 0', axis=1)\n",
    "cont.head()"
   ]
  },
  {
   "cell_type": "code",
   "execution_count": 11,
   "id": "136a2eed",
   "metadata": {},
   "outputs": [
    {
     "data": {
      "text/plain": [
       "<AxesSubplot: xlabel='continent', ylabel='car purchase amount'>"
      ]
     },
     "execution_count": 11,
     "metadata": {},
     "output_type": "execute_result"
    },
    {
     "data": {
      "image/png": "[encoded data removed]",
      "text/plain": [
       "<Figure size 640x480 with 1 Axes>"
      ]
     },
     "metadata": {},
     "output_type": "display_data"
    }
   ],
   "source": [
    "sns.barplot(data = cont , x = 'continent', y = 'car purchase amount')"
   ]
  },
  {
   "cell_type": "code",
   "execution_count": null,
   "id": "a8bd2808",
   "metadata": {},
   "outputs": [],
   "source": [
    "# AS we can see, the barplot doesn't tell us much of the data just that."
   ]
  },
  {
   "cell_type": "code",
   "execution_count": 14,
   "id": "f4cca028",
   "metadata": {},
   "outputs": [
    {
     "data": {
      "text/plain": [
       "<AxesSubplot: xlabel='continent', ylabel='net worth'>"
      ]
     },
     "execution_count": 14,
     "metadata": {},
     "output_type": "execute_result"
    },
    {
     "data": {
      "image/png": "[encoded data removed]",
      "text/plain": [
       "<Figure size 640x480 with 1 Axes>"
      ]
     },
     "metadata": {},
     "output_type": "display_data"
    }
   ],
   "source": [
    "sns.barplot(data = cont , x = 'continent', y = 'net worth')"
   ]
  },
  {
   "cell_type": "code",
   "execution_count": 16,
   "id": "7099d8d0",
   "metadata": {},
   "outputs": [
    {
     "data": {
      "text/plain": [
       "continent\n",
       "Africa      44446.075920\n",
       "Americas    43173.033937\n",
       "Asia        43788.960165\n",
       "Europe      45343.352700\n",
       "Oceania     43835.249350\n",
       "Name: car purchase amount, dtype: float64"
      ]
     },
     "execution_count": 16,
     "metadata": {},
     "output_type": "execute_result"
    }
   ],
   "source": [
    "cont.groupby('continent')['car purchase amount'].mean()"
   ]
  },
  {
   "cell_type": "code",
   "execution_count": null,
   "id": "4c8576f0",
   "metadata": {},
   "outputs": [],
   "source": [
    "# WE can see that Africa ranks first on car purhchasing amount followed by Americas, Asia, Europe, Oceania."
   ]
  },
  {
   "cell_type": "code",
   "execution_count": 18,
   "id": "2a2a13cb",
   "metadata": {},
   "outputs": [
    {
     "data": {
      "text/plain": [
       "array(['Southern Asia', 'Northern Africa', 'Polynesia', 'Southern Europe',\n",
       "       'Middle Africa', 'Caribbean', 'South America', 'Western Asia',\n",
       "       'Australia and New Zealand', 'Western Europe', 'Eastern Europe',\n",
       "       'Central America', 'Western Africa', 'Northern America',\n",
       "       'Southern Africa', 'South-Eastern Asia', 'Eastern Asia',\n",
       "       'Northern Europe', 'Eastern Africa', 'Micronesia', 'Central Asia',\n",
       "       'Melanesia'], dtype=object)"
      ]
     },
     "execution_count": 18,
     "metadata": {},
     "output_type": "execute_result"
    }
   ],
   "source": [
    "cont['sub_region'].unique()"
   ]
  },
  {
   "cell_type": "code",
   "execution_count": 19,
   "id": "beb11395",
   "metadata": {},
   "outputs": [
    {
     "data": {
      "text/plain": [
       "22"
      ]
     },
     "execution_count": 19,
     "metadata": {},
     "output_type": "execute_result"
    }
   ],
   "source": [
    "cont['sub_region'].nunique()"
   ]
  },
  {
   "cell_type": "code",
   "execution_count": null,
   "id": "1d443379",
   "metadata": {},
   "outputs": [],
   "source": [
    "# We can get more clarity on this if we do an analyis based on sub_region. "
   ]
  },
  {
   "cell_type": "code",
   "execution_count": null,
   "id": "8c6a4c44",
   "metadata": {},
   "outputs": [],
   "source": [
    "df['Price'] = np.where(df['Event']\n",
    "                       =='Music', 1500,800 )"
   ]
  },
  {
   "cell_type": "code",
   "execution_count": 22,
   "id": "af2bb47d",
   "metadata": {},
   "outputs": [],
   "source": [
    "Asia = np.where(cont['continent'] =='Asia')"
   ]
  },
  {
   "cell_type": "code",
   "execution_count": 24,
   "id": "03d17a30",
   "metadata": {},
   "outputs": [
    {
     "name": "stdout",
     "output_type": "stream",
     "text": [
      "(array([  0,   7,  12,  13,  19,  25,  32,  53,  68,  71,  72,  73,  75,\n",
      "        78,  80,  81,  84,  85,  87,  92,  95,  96, 106, 110, 113, 122,\n",
      "       123, 125, 129, 133, 143, 148, 155, 159, 160, 166, 167, 172, 175,\n",
      "       178], dtype=int64),)\n"
     ]
    }
   ],
   "source": [
    "print(Asia)"
   ]
  },
  {
   "cell_type": "code",
   "execution_count": 30,
   "id": "b81f4e77",
   "metadata": {},
   "outputs": [],
   "source": [
    "df1 = cont.groupby(['sub_region']).agg({'car purchase amount':'mean'})\n"
   ]
  },
  {
   "cell_type": "code",
   "execution_count": 31,
   "id": "6c09abc1",
   "metadata": {},
   "outputs": [
    {
     "name": "stdout",
     "output_type": "stream",
     "text": [
      "                           car purchase amount\n",
      "sub_region                                    \n",
      "Australia and New Zealand         35577.891140\n",
      "Caribbean                         47078.623680\n",
      "Central America                   37461.607582\n",
      "Central Asia                      43609.180604\n",
      "Eastern Africa                    41562.404099\n",
      "Eastern Asia                      47294.746523\n",
      "Eastern Europe                    47089.344767\n",
      "Melanesia                         45243.333088\n",
      "Micronesia                        48599.247085\n",
      "Middle Africa                     43927.287729\n",
      "Northern Africa                   46231.008945\n",
      "Northern America                  45095.079608\n",
      "Northern Europe                   47940.789399\n",
      "Polynesia                         42785.888602\n",
      "South America                     39717.687249\n",
      "South-Eastern Asia                46024.525161\n",
      "Southern Africa                   47778.653764\n",
      "Southern Asia                     41105.536087\n",
      "Southern Europe                   44072.107738\n",
      "Western Africa                    46110.046717\n",
      "Western Asia                      42746.141135\n",
      "Western Europe                    42641.455178\n"
     ]
    }
   ],
   "source": [
    "print(df1)"
   ]
  },
  {
   "cell_type": "code",
   "execution_count": null,
   "id": "8f40b4ec",
   "metadata": {},
   "outputs": [],
   "source": [
    "# Here we have mean car purchase amount of all the sub regions"
   ]
  },
  {
   "cell_type": "code",
   "execution_count": 45,
   "id": "8e8a84a2",
   "metadata": {},
   "outputs": [
    {
     "data": {
      "text/plain": [
       "([0,\n",
       "  1,\n",
       "  2,\n",
       "  3,\n",
       "  4,\n",
       "  5,\n",
       "  6,\n",
       "  7,\n",
       "  8,\n",
       "  9,\n",
       "  10,\n",
       "  11,\n",
       "  12,\n",
       "  13,\n",
       "  14,\n",
       "  15,\n",
       "  16,\n",
       "  17,\n",
       "  18,\n",
       "  19,\n",
       "  20,\n",
       "  21],\n",
       " [Text(0, 0, 'Southern Asia'),\n",
       "  Text(1, 0, 'Northern Africa'),\n",
       "  Text(2, 0, 'Polynesia'),\n",
       "  Text(3, 0, 'Southern Europe'),\n",
       "  Text(4, 0, 'Middle Africa'),\n",
       "  Text(5, 0, 'Caribbean'),\n",
       "  Text(6, 0, 'South America'),\n",
       "  Text(7, 0, 'Western Asia'),\n",
       "  Text(8, 0, 'Australia and New Zealand'),\n",
       "  Text(9, 0, 'Western Europe'),\n",
       "  Text(10, 0, 'Eastern Europe'),\n",
       "  Text(11, 0, 'Central America'),\n",
       "  Text(12, 0, 'Western Africa'),\n",
       "  Text(13, 0, 'Northern America'),\n",
       "  Text(14, 0, 'Southern Africa'),\n",
       "  Text(15, 0, 'South-Eastern Asia'),\n",
       "  Text(16, 0, 'Eastern Asia'),\n",
       "  Text(17, 0, 'Northern Europe'),\n",
       "  Text(18, 0, 'Eastern Africa'),\n",
       "  Text(19, 0, 'Micronesia'),\n",
       "  Text(20, 0, 'Central Asia'),\n",
       "  Text(21, 0, 'Melanesia')])"
      ]
     },
     "execution_count": 45,
     "metadata": {},
     "output_type": "execute_result"
    },
    {
     "data": {
      "image/png": "[encoded data removed]",
      "text/plain": [
       "<Figure size 640x480 with 1 Axes>"
      ]
     },
     "metadata": {},
     "output_type": "display_data"
    }
   ],
   "source": [
    "plt.bar(cont['sub_region'], cont['car purchase amount'])\n",
    "plt.xticks(rotation=90)"
   ]
  },
  {
   "cell_type": "code",
   "execution_count": null,
   "id": "b6bb884e",
   "metadata": {},
   "outputs": [],
   "source": [
    "# As the bar plot shows Carribean region and Micronesia are leading with the least beinf Central Africa and Central Asia."
   ]
  }
 ],
 "metadata": {
  "kernelspec": {
   "display_name": "Python 3 (ipykernel)",
   "language": "python",
   "name": "python3"
  },
  "language_info": {
   "codemirror_mode": {
    "name": "ipython",
    "version": 3
   },
   "file_extension": ".py",
   "mimetype": "text/x-python",
   "name": "python",
   "nbconvert_exporter": "python",
   "pygments_lexer": "ipython3",
   "version": "3.9.15"
  }
 },
 "nbformat": 4,
 "nbformat_minor": 5
}
